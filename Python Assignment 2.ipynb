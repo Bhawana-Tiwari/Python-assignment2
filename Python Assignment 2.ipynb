{
 "cells": [
  {
   "cell_type": "markdown",
   "id": "4aea3091",
   "metadata": {},
   "source": [
    "# ques1."
   ]
  },
  {
   "cell_type": "markdown",
   "id": "d9ef6c62",
   "metadata": {},
   "source": [
    "## Create the below pattern using nested for loop in Python. \n",
    "### * \n",
    "### * * \n",
    "### * * * \n",
    "### * * * * \n",
    "### * * * * * \n",
    "### * * * * \n",
    "### * * * \n",
    "### * * \n",
    "### * \n"
   ]
  },
  {
   "cell_type": "code",
   "execution_count": 12,
   "id": "4d314f6d",
   "metadata": {},
   "outputs": [
    {
     "name": "stdout",
     "output_type": "stream",
     "text": [
      "*\n",
      "**\n",
      "***\n",
      "****\n",
      "*****\n",
      "****\n",
      "***\n",
      "**\n",
      "*\n"
     ]
    }
   ],
   "source": [
    "n=5\n",
    "for i in range(n): \n",
    "    for j in range(0, i + 1): \n",
    "            print(\"*\", end = \"\") \n",
    "    print() \n",
    "for i in range(1, n): \n",
    "    for j in range(i, n): \n",
    "            print(\"*\", end = \"\")\n",
    "    print() "
   ]
  },
  {
   "cell_type": "markdown",
   "id": "21bb2a5b",
   "metadata": {},
   "source": [
    "# ques2.\n",
    "##  Write a Python program to reverse a word after accepting the input from the user. "
   ]
  },
  {
   "cell_type": "code",
   "execution_count": 17,
   "id": "ded04823",
   "metadata": {},
   "outputs": [
    {
     "name": "stdout",
     "output_type": "stream",
     "text": [
      "Enter a word you want to print the reverse : ineuron\n"
     ]
    },
    {
     "data": {
      "text/plain": [
       "'norueni'"
      ]
     },
     "execution_count": 17,
     "metadata": {},
     "output_type": "execute_result"
    }
   ],
   "source": [
    "word=input(\"Enter a word you want to print the reverse : \")\n",
    "word[::-1]"
   ]
  },
  {
   "cell_type": "markdown",
   "id": "396409e6",
   "metadata": {},
   "source": [
    "# ques3.\n",
    "## Write a program which accepts a sequence of comma-separated numbers from console  and generate a list. \n"
   ]
  },
  {
   "cell_type": "code",
   "execution_count": 29,
   "id": "ec71d2d0",
   "metadata": {},
   "outputs": [
    {
     "name": "stdout",
     "output_type": "stream",
     "text": [
      "Input some comma seprated numbers : 4,5,6,7,8\n",
      "List :  ['4', '5', '6', '7', '8']\n"
     ]
    }
   ],
   "source": [
    "values = input(\"Input some comma seprated numbers : \")\n",
    "list = values.split(\",\")\n",
    "print('List : ',list)\n"
   ]
  },
  {
   "cell_type": "code",
   "execution_count": null,
   "id": "f5a20803",
   "metadata": {},
   "outputs": [],
   "source": []
  }
 ],
 "metadata": {
  "kernelspec": {
   "display_name": "Python 3",
   "language": "python",
   "name": "python3"
  },
  "language_info": {
   "codemirror_mode": {
    "name": "ipython",
    "version": 3
   },
   "file_extension": ".py",
   "mimetype": "text/x-python",
   "name": "python",
   "nbconvert_exporter": "python",
   "pygments_lexer": "ipython3",
   "version": "3.9.1"
  }
 },
 "nbformat": 4,
 "nbformat_minor": 5
}
